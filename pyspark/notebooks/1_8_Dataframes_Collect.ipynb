{
 "cells": [
  {
   "cell_type": "markdown",
   "id": "c350adc0-fc57-4892-84db-c3bed739b2b3",
   "metadata": {},
   "source": [
    "# PySpark - collect()\n",
    "## PySpark Collect() – Retrieve data from DataFrame\n",
    "PySpark RDD/DataFrame collect() is an action operation that is used to retrieve all the elements of the dataset (from all nodes) to the driver node. We should use the collect() on smaller dataset usually after filter(), group() e.t.c. Retrieving larger datasets results in OutOfMemory error."
   ]
  },
  {
   "cell_type": "code",
   "execution_count": 1,
   "id": "51aabb54-88fd-4fa2-88b4-3a9b00ffe00f",
   "metadata": {},
   "outputs": [],
   "source": [
    "import findspark\n",
    "findspark.init()\n",
    "from pyspark.sql import SparkSession\n",
    "spark = SparkSession.builder.appName(\"SparkByExamples.com\").getOrCreate()"
   ]
  },
  {
   "cell_type": "code",
   "execution_count": 2,
   "id": "e4a08f84-5e69-4912-9d51-8d0a34ffd5be",
   "metadata": {},
   "outputs": [
    {
     "name": "stdout",
     "output_type": "stream",
     "text": [
      "+---------+-------+\n",
      "|dept_name|dept_id|\n",
      "+---------+-------+\n",
      "|Finance  |10     |\n",
      "|Marketing|20     |\n",
      "|Sales    |30     |\n",
      "|IT       |40     |\n",
      "+---------+-------+\n",
      "\n"
     ]
    }
   ],
   "source": [
    "dept = [(\"Finance\",10), \\\n",
    "    (\"Marketing\",20), \\\n",
    "    (\"Sales\",30), \\\n",
    "    (\"IT\",40) \\\n",
    "  ]\n",
    "deptColumns = [\"dept_name\",\"dept_id\"]\n",
    "deptDF = spark.createDataFrame(data=dept, schema = deptColumns)\n",
    "deptDF.show(truncate=False)"
   ]
  },
  {
   "cell_type": "markdown",
   "id": "c0897a95-a184-461d-afc4-090493cd80be",
   "metadata": {},
   "source": [
    "let’s use the collect() to retrieve the data.<br>\n",
    "deptDF.collect() retrieves all elements in a DataFrame as an Array of Row type to the driver node. printing a resultant array yields the below output."
   ]
  },
  {
   "cell_type": "code",
   "execution_count": 3,
   "id": "0ef43e6c-3f04-4eab-8fd9-b8e71d285f73",
   "metadata": {},
   "outputs": [
    {
     "name": "stdout",
     "output_type": "stream",
     "text": [
      "[Row(dept_name='Finance', dept_id=10), Row(dept_name='Marketing', dept_id=20), Row(dept_name='Sales', dept_id=30), Row(dept_name='IT', dept_id=40)]\n"
     ]
    }
   ],
   "source": [
    "dataCollect = deptDF.collect()\n",
    "print(dataCollect)"
   ]
  },
  {
   "cell_type": "markdown",
   "id": "9c316751-d05b-4ee6-a646-316615460eaf",
   "metadata": {},
   "source": [
    "Note that collect() is an action hence it does not return a DataFrame instead, it returns data in an Array to the driver. Once the data is in an array, you can use python for loop to process it further."
   ]
  },
  {
   "cell_type": "code",
   "execution_count": 5,
   "id": "6cd5b4e6-4ec3-4960-85fc-d17db182f843",
   "metadata": {},
   "outputs": [
    {
     "name": "stdout",
     "output_type": "stream",
     "text": [
      "Finance,10\n",
      "Marketing,20\n",
      "Sales,30\n",
      "IT,40\n"
     ]
    }
   ],
   "source": [
    "for row in dataCollect:\n",
    "    print(row['dept_name'] + \",\" +str(row['dept_id']))"
   ]
  },
  {
   "cell_type": "code",
   "execution_count": 6,
   "id": "4f1ec5d4-11a5-41a1-a214-56af0e915176",
   "metadata": {},
   "outputs": [
    {
     "data": {
      "text/plain": [
       "'Finance'"
      ]
     },
     "execution_count": 6,
     "metadata": {},
     "output_type": "execute_result"
    }
   ],
   "source": [
    "#Returns value of First Row, First Column which is \"Finance\"\n",
    "deptDF.collect()[0][0]"
   ]
  },
  {
   "cell_type": "markdown",
   "id": "fe2ab5dc-9081-4ba6-a5fb-bc883acd3289",
   "metadata": {},
   "source": [
    "* deptDF.collect() returns Array of Row type.\n",
    "* deptDF.collect()[0] returns the first element in an array (1st row).\n",
    "* deptDF.collect[0][0] returns the value of the first row & first column.\n",
    "\n",
    "To just return certain elements of a DataFrame, you should call PySpark select() transformation first."
   ]
  },
  {
   "cell_type": "code",
   "execution_count": 7,
   "id": "eba8346c-6a86-4853-9700-740f37a0ee59",
   "metadata": {},
   "outputs": [
    {
     "name": "stdout",
     "output_type": "stream",
     "text": [
      "[Row(dept_name='Finance'), Row(dept_name='Marketing'), Row(dept_name='Sales'), Row(dept_name='IT')]\n"
     ]
    }
   ],
   "source": [
    "dataCollect = deptDF.select(\"dept_name\").collect()\n",
    "print(dataCollect)"
   ]
  },
  {
   "cell_type": "markdown",
   "id": "e4e2f45f-75d2-40ff-a5f6-34aa308c5543",
   "metadata": {},
   "source": [
    "### When to avoid Collect()\n",
    "Usually, collect() is used to retrieve the action output when you have very small result set and calling collect() on an RDD/DataFrame with a bigger result set causes out of memory as it returns the entire dataset (from all workers) to the driver hence we should avoid calling collect() on a larger dataset."
   ]
  },
  {
   "cell_type": "markdown",
   "id": "6c11ae08-388d-414e-9bf2-eed640199676",
   "metadata": {},
   "source": [
    "### collect () vs select ()\n",
    "select() is a transformation that returns a new DataFrame and holds the columns that are selected whereas collect() is an action that returns the entire data set in an Array to the driver."
   ]
  }
 ],
 "metadata": {
  "kernelspec": {
   "display_name": "Python 3 (ipykernel)",
   "language": "python",
   "name": "python3"
  },
  "language_info": {
   "codemirror_mode": {
    "name": "ipython",
    "version": 3
   },
   "file_extension": ".py",
   "mimetype": "text/x-python",
   "name": "python",
   "nbconvert_exporter": "python",
   "pygments_lexer": "ipython3",
   "version": "3.7.16"
  }
 },
 "nbformat": 4,
 "nbformat_minor": 5
}
