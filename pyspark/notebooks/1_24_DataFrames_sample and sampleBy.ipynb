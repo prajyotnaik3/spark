{
 "cells": [
  {
   "cell_type": "markdown",
   "id": "30d9b67e-a5f9-4460-a1f1-15e255a10200",
   "metadata": {},
   "source": [
    "## PySpark Random Sample\n",
    "PySpark provides a pyspark.sql.DataFrame.sample(), pyspark.sql.DataFrame.sampleBy(), RDD.sample(), and RDD.takeSample() methods to get the random sampling subset from the large dataset.\n",
    "\n",
    "PySpark sampling (pyspark.sql.DataFrame.sample()) is a mechanism to get random sample records from the dataset, this is helpful when you have a larger dataset and wanted to analyze/test a subset of the data for example 10% of the original file.\n",
    "\n",
    "The syntax of the sample() function<br>\n",
    "sample(withReplacement, fraction, seed=None)<br>\n",
    "* fraction – Fraction of rows to generate, range [0.0, 1.0]. Note that it doesn’t guarantee to provide the exact number of the fraction of records.\n",
    "* seed – Seed for sampling (default a random seed). Used to reproduce the same random sampling.\n",
    "* withReplacement – Sample with replacement or not (default False).\n",
    "\n",
    "### Using fraction to get a random sample in PySpark\n",
    "By using fraction between 0 to 1, it returns the approximate number of the fraction of the dataset. For example, 0.1 returns 10% of the rows. However, this does not guarantee it returns the exact 10% of the records."
   ]
  },
  {
   "cell_type": "code",
   "execution_count": 1,
   "id": "fcc324b7-56b9-4355-8fbd-8a3467eee5e0",
   "metadata": {},
   "outputs": [],
   "source": [
    "import findspark\n",
    "findspark.init()\n",
    "from pyspark.sql import SparkSession\n",
    "spark = SparkSession.builder.appName(\"SparkByExamples.com\").getOrCreate()"
   ]
  },
  {
   "cell_type": "code",
   "execution_count": 2,
   "id": "cf7f48e2-13c6-41ab-9d5e-fc9cde5b8957",
   "metadata": {},
   "outputs": [
    {
     "name": "stdout",
     "output_type": "stream",
     "text": [
      "[Row(id=26), Row(id=28), Row(id=41), Row(id=47), Row(id=49)]\n"
     ]
    }
   ],
   "source": [
    "df=spark.range(100)\n",
    "print(df.sample(0.06).collect())"
   ]
  },
  {
   "cell_type": "markdown",
   "id": "f41f79ce-7291-4ac7-a963-773628dd0530",
   "metadata": {},
   "source": [
    "### Using seed to reproduce the same Samples in PySpark\n",
    "Every time you run a sample() function it returns a different set of sampling records, however sometimes during the development and testing phase you may need to regenerate the same sample every time as you need to compare the results from your previous run. To get consistent same random sampling uses the same slice value for every run. Change slice value to get different results."
   ]
  },
  {
   "cell_type": "code",
   "execution_count": 3,
   "id": "2c1bdfca-f00d-4478-bc4d-5af194ef7c33",
   "metadata": {},
   "outputs": [
    {
     "name": "stdout",
     "output_type": "stream",
     "text": [
      "[Row(id=35), Row(id=38), Row(id=41), Row(id=45), Row(id=71), Row(id=84), Row(id=87), Row(id=99)]\n",
      "[Row(id=35), Row(id=38), Row(id=41), Row(id=45), Row(id=71), Row(id=84), Row(id=87), Row(id=99)]\n",
      "[Row(id=22), Row(id=33), Row(id=35), Row(id=41), Row(id=53), Row(id=80), Row(id=83), Row(id=87), Row(id=92)]\n"
     ]
    }
   ],
   "source": [
    "print(df.sample(0.1,123).collect())\n",
    "\n",
    "print(df.sample(0.1,123).collect())\n",
    "\n",
    "print(df.sample(0.1,456).collect())"
   ]
  },
  {
   "cell_type": "markdown",
   "id": "2dbf5d3c-2a75-4c99-85a4-80d063cb6bb5",
   "metadata": {},
   "source": [
    "### Sample withReplacement (May contain duplicates)\n",
    "Some times you may need to get a random sample with repeated values. By using the value true, results in repeated values."
   ]
  },
  {
   "cell_type": "code",
   "execution_count": 4,
   "id": "3876d384-a9d7-4208-99ec-ffa71c853a74",
   "metadata": {},
   "outputs": [
    {
     "name": "stdout",
     "output_type": "stream",
     "text": [
      "[Row(id=0), Row(id=5), Row(id=9), Row(id=11), Row(id=13), Row(id=16), Row(id=17), Row(id=26), Row(id=26), Row(id=37), Row(id=41), Row(id=45), Row(id=49), Row(id=50), Row(id=50), Row(id=57), Row(id=58), Row(id=58), Row(id=65), Row(id=66), Row(id=71), Row(id=74), Row(id=77), Row(id=80), Row(id=81), Row(id=82), Row(id=84), Row(id=88), Row(id=90), Row(id=91), Row(id=91), Row(id=92), Row(id=94), Row(id=96)]\n",
      "[Row(id=0), Row(id=4), Row(id=12), Row(id=15), Row(id=19), Row(id=21), Row(id=23), Row(id=24), Row(id=25), Row(id=28), Row(id=29), Row(id=34), Row(id=35), Row(id=36), Row(id=38), Row(id=41), Row(id=45), Row(id=47), Row(id=50), Row(id=52), Row(id=59), Row(id=63), Row(id=65), Row(id=71), Row(id=82), Row(id=84), Row(id=87), Row(id=94), Row(id=99)]\n"
     ]
    }
   ],
   "source": [
    "print(df.sample(True,0.3,123).collect()) #with Duplicates\n",
    "\n",
    "print(df.sample(0.3,123).collect()) #No duplicates"
   ]
  },
  {
   "cell_type": "markdown",
   "id": "e21658e5-cfc1-4109-9f7f-bd739e0c140f",
   "metadata": {},
   "source": [
    "### Stratified sampling in PySpark\n",
    "You can get Stratified sampling in PySpark without replacement by using sampleBy() method. It returns a sampling fraction for each stratum. If a stratum is not specified, it takes zero as the default.\n",
    "\n",
    "sampleBy() Syntax<br>\n",
    "sampleBy(col, fractions, seed=None)\n",
    "* col – column name from DataFrame\n",
    "* fractions – It’s Dictionary type takes key and value."
   ]
  },
  {
   "cell_type": "code",
   "execution_count": 5,
   "id": "ebab272d-c5a4-47bc-999e-5903a52858ab",
   "metadata": {},
   "outputs": [
    {
     "name": "stdout",
     "output_type": "stream",
     "text": [
      "[Row(key=0), Row(key=0), Row(key=1), Row(key=1), Row(key=0), Row(key=1), Row(key=0), Row(key=1), Row(key=0), Row(key=0), Row(key=1), Row(key=1), Row(key=0)]\n"
     ]
    }
   ],
   "source": [
    "df2=df.select((df.id % 3).alias(\"key\"))\n",
    "print(df2.sampleBy(\"key\", {0: 0.1, 1: 0.2},0).collect())"
   ]
  },
  {
   "cell_type": "markdown",
   "id": "20dbcd5f-9d67-49a9-97b2-1b5709973740",
   "metadata": {},
   "source": [
    "### PySpark RDD Sample\n",
    "PySpark RDD also provides sample() function to get a random sampling, it also has another signature takeSample() that returns an Array[T].\n",
    "\n",
    "PySpark RDD sample() function returns the random sampling similar to DataFrame and takes a similar types of parameters but in a different order.\n",
    "\n",
    "sample() of RDD returns a new RDD by selecting random sampling. Below is a syntax.<br>\n",
    "sample(self, withReplacement, fraction, seed=None)"
   ]
  },
  {
   "cell_type": "code",
   "execution_count": 6,
   "id": "c237bbe6-136c-4afd-b1aa-db3c43e3a6e1",
   "metadata": {},
   "outputs": [
    {
     "name": "stdout",
     "output_type": "stream",
     "text": [
      "[23, 48, 53, 60, 72, 87, 91, 96, 98]\n",
      "[0, 11, 16, 18, 19, 23, 23, 24, 26, 26, 27, 29, 35, 38, 47, 49, 54, 54, 55, 61, 61, 66, 68, 81, 81, 82, 85, 97, 99]\n"
     ]
    }
   ],
   "source": [
    "rdd = spark.sparkContext.range(0,100)\n",
    "print(rdd.sample(False,0.1,0).collect())\n",
    "print(rdd.sample(True,0.3,123).collect())"
   ]
  },
  {
   "cell_type": "markdown",
   "id": "3342461d-bbd7-431a-af97-089f80ca83ca",
   "metadata": {},
   "source": [
    "RDD takeSample() Syntax <br>\n",
    "RDD takeSample() is an action hence you need to careful when you use this function as it returns the selected sample records to driver memory. Returning too much data results in an out-of-memory error similar to collect().\n",
    "\n",
    "takeSample(self, withReplacement, num, seed=None) "
   ]
  },
  {
   "cell_type": "code",
   "execution_count": 7,
   "id": "938e51b5-7333-4c90-ab79-07bf18413c8d",
   "metadata": {},
   "outputs": [
    {
     "name": "stdout",
     "output_type": "stream",
     "text": [
      "[18, 60, 51, 68, 22, 1, 35, 84, 75, 72]\n",
      "[72, 91, 55, 86, 37, 49, 34, 46, 63, 21, 81, 17, 20, 84, 29, 46, 84, 14, 59, 7, 80, 25, 60, 59, 54, 22, 34, 83, 82, 25]\n"
     ]
    }
   ],
   "source": [
    "print(rdd.takeSample(False,10,0))\n",
    "print(rdd.takeSample(True,30,123))"
   ]
  }
 ],
 "metadata": {
  "kernelspec": {
   "display_name": "Python 3 (ipykernel)",
   "language": "python",
   "name": "python3"
  },
  "language_info": {
   "codemirror_mode": {
    "name": "ipython",
    "version": 3
   },
   "file_extension": ".py",
   "mimetype": "text/x-python",
   "name": "python",
   "nbconvert_exporter": "python",
   "pygments_lexer": "ipython3",
   "version": "3.7.16"
  }
 },
 "nbformat": 4,
 "nbformat_minor": 5
}
