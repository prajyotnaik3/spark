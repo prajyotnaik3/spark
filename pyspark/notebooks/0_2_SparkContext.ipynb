{
 "cells": [
  {
   "attachments": {
    "f68dce27-3e75-44ca-a886-6df8f4221dd7.webp": {
     "image/webp": "[encoded data removed]"
    }
   },
   "cell_type": "markdown",
   "id": "2833e936-abe5-4ddb-bd1b-9d4a5cb6fba1",
   "metadata": {},
   "source": [
    "# PySpark - SparkContext\n",
    "pyspark.SparkContext is an entry point to the PySpark functionality that is used to communicate with the cluster and to create an RDD, accumulator, and broadcast variables. In this article, you will learn how to create PySpark SparkContext with examples. Note that you can create only one SparkContext per JVM, in order to create another first you need to stop the existing one using stop() method.\n",
    "\n",
    "![image04.webp](attachment:f68dce27-3e75-44ca-a886-6df8f4221dd7.webp)\n",
    "\n",
    "The Spark driver program creates and uses SparkContext to connect to the cluster manager to submit PySpark jobs, and know what resource manager (YARN, Mesos, or Standalone) to communicate to. It is the heart of the PySpark application."
   ]
  },
  {
   "cell_type": "markdown",
   "id": "91a9e9ce-1f5a-4e0a-91e1-d180bb932410",
   "metadata": {},
   "source": [
    "## SparkContext in PySpark shell\n",
    "Be default PySpark shell creates and provides sc object, which is an instance of SparkContext class. We can directly use this object where required without the need of creating.\n",
    "```\n",
    ">>sc.appName\n",
    "```\n",
    "Similar to the PySpark shell, in most of the tools, notebooks, and Azure Databricks, the environment itself creates a default SparkContext object for us to use so you don’t have to worry about creating a PySpark context."
   ]
  },
  {
   "cell_type": "markdown",
   "id": "a99e814b-bce7-47f6-be78-9de49a040fe2",
   "metadata": {},
   "source": [
    "## Create SparkContext in PySpark\n",
    "Since PySpark 2.0, Creating a SparkSession creates a SparkContext internally and exposes the sparkContext variable to use.\n",
    "\n",
    "At any given time only one SparkContext instance should be active per JVM. In case you want to create another you should stop existing SparkContext using stop() before creating a new one."
   ]
  },
  {
   "cell_type": "code",
   "execution_count": 2,
   "id": "28abd055-9b48-4de6-bd29-7c448e81ab03",
   "metadata": {},
   "outputs": [],
   "source": [
    "import findspark\n",
    "findspark.init()"
   ]
  },
  {
   "cell_type": "code",
   "execution_count": 8,
   "id": "b96b28be-a806-4ccf-ac00-485f5c31e465",
   "metadata": {},
   "outputs": [
    {
     "name": "stdout",
     "output_type": "stream",
     "text": [
      "<SparkContext master=local appName=Spark_Example_App>\n",
      "Spark App Name : Spark_Example_App\n"
     ]
    }
   ],
   "source": [
    "# Create SparkSession from builder\n",
    "from pyspark.sql import SparkSession\n",
    "spark = SparkSession.builder.master(\"local[1]\") \\\n",
    "                    .appName('SparkByExamples.com') \\\n",
    "                    .getOrCreate()\n",
    "print(spark.sparkContext)\n",
    "print(\"Spark App Name : \"+ spark.sparkContext.appName)"
   ]
  },
  {
   "cell_type": "markdown",
   "id": "ac1d1846-8888-4188-8ec5-1d14d3ccba64",
   "metadata": {},
   "source": [
    "You can create any number of SparkSession objects however, for all those objects underlying there will be only one SparkContext."
   ]
  },
  {
   "cell_type": "markdown",
   "id": "c4db2718-40c8-4e22-8509-f64b501a4f32",
   "metadata": {},
   "source": [
    "## Stop PySpark SparkContext\n",
    "You can stop the SparkContext by calling the stop() method. As explained above you can have only one SparkContext per JVM. If you wanted to create another, you need to shutdown it first by using stop() method and create a new SparkContext."
   ]
  },
  {
   "cell_type": "code",
   "execution_count": 4,
   "id": "484caae0-8e64-4913-b1d8-5d12be6ba82b",
   "metadata": {},
   "outputs": [],
   "source": [
    "# SparkContext stop() method\n",
    "spark.sparkContext.stop()"
   ]
  },
  {
   "cell_type": "markdown",
   "id": "2142be3c-a262-456a-9d34-c6e81eb8c9b5",
   "metadata": {},
   "source": [
    "When PySpark executes this statement, it logs the message INFO SparkContext: Successfully stopped SparkContext to console or to a log file.\n",
    "\n",
    "When you try to create multiple SparkContext you will get the below error.\n",
    "\n",
    "ValueError: Cannot run multiple SparkContexts at once;"
   ]
  },
  {
   "cell_type": "markdown",
   "id": "d1f2283f-8988-4b4d-8902-c8b9ee4f0b1a",
   "metadata": {},
   "source": [
    "## Creating SparkContext prior to PySpark 2.0\n",
    "You can create SparkContext by programmatically using its constructor, and pass parameters like master and appName at least as these are mandatory params. The below example creates context with a master as local and app name as Spark_Example_App."
   ]
  },
  {
   "cell_type": "code",
   "execution_count": 5,
   "id": "0abd7eee-1756-4952-aa01-b35077c5e620",
   "metadata": {},
   "outputs": [
    {
     "name": "stdout",
     "output_type": "stream",
     "text": [
      "Spark_Example_App\n"
     ]
    }
   ],
   "source": [
    "# Create SparkContext\n",
    "from pyspark import SparkContext\n",
    "sc = SparkContext(\"local\", \"Spark_Example_App\")\n",
    "print(sc.appName)"
   ]
  },
  {
   "cell_type": "markdown",
   "id": "49b8e6f0-f40a-4f79-87fc-a15f1e1c0f38",
   "metadata": {},
   "source": [
    "You can also create it using SparkContext.getOrCreate(). It actually returns an existing active SparkContext otherwise creates one with a specified master and app name."
   ]
  },
  {
   "cell_type": "code",
   "execution_count": 6,
   "id": "143590e5-0005-4735-9da9-e9bfa5e9f997",
   "metadata": {},
   "outputs": [
    {
     "name": "stdout",
     "output_type": "stream",
     "text": [
      "Spark_Example_App\n"
     ]
    }
   ],
   "source": [
    "# Create Spark Context\n",
    "from pyspark import SparkConf, SparkContext\n",
    "conf = SparkConf()\n",
    "conf.setMaster(\"local\").setAppName(\"Spark Example App\")\n",
    "sc = SparkContext.getOrCreate(conf)\n",
    "print(sc.appName)"
   ]
  },
  {
   "cell_type": "markdown",
   "id": "15ff6421-f224-49eb-b4f2-a05a4bd8f3f2",
   "metadata": {},
   "source": [
    "## Create PySpark RDD\n",
    "Once you have a SparkContext object, you can create a PySpark RDD in several ways, below I have used the range() function."
   ]
  },
  {
   "cell_type": "code",
   "execution_count": 9,
   "id": "87875fe5-bb4f-4569-a702-747a35641a3f",
   "metadata": {},
   "outputs": [
    {
     "name": "stdout",
     "output_type": "stream",
     "text": [
      "[1, 2, 3, 4]\n"
     ]
    },
    {
     "name": "stderr",
     "output_type": "stream",
     "text": [
      "----------------------------------------\n",
      "Exception happened during processing of request from ('127.0.0.1', 52039)\n",
      "Traceback (most recent call last):\n",
      "  File \"C:\\Users\\prajyot.naik\\.conda\\envs\\spark\\lib\\socketserver.py\", line 316, in _handle_request_noblock\n",
      "    self.process_request(request, client_address)\n",
      "  File \"C:\\Users\\prajyot.naik\\.conda\\envs\\spark\\lib\\socketserver.py\", line 347, in process_request\n",
      "    self.finish_request(request, client_address)\n",
      "  File \"C:\\Users\\prajyot.naik\\.conda\\envs\\spark\\lib\\socketserver.py\", line 360, in finish_request\n",
      "    self.RequestHandlerClass(request, client_address, self)\n",
      "  File \"C:\\Users\\prajyot.naik\\.conda\\envs\\spark\\lib\\socketserver.py\", line 720, in __init__\n",
      "    self.handle()\n",
      "  File \"C:\\spark\\python\\pyspark\\accumulators.py\", line 268, in handle\n",
      "    poll(accum_updates)\n",
      "  File \"C:\\spark\\python\\pyspark\\accumulators.py\", line 241, in poll\n",
      "    if func():\n",
      "  File \"C:\\spark\\python\\pyspark\\accumulators.py\", line 245, in accum_updates\n",
      "    num_updates = read_int(self.rfile)\n",
      "  File \"C:\\spark\\python\\pyspark\\serializers.py\", line 593, in read_int\n",
      "    length = stream.read(4)\n",
      "  File \"C:\\Users\\prajyot.naik\\.conda\\envs\\spark\\lib\\socket.py\", line 589, in readinto\n",
      "    return self._sock.recv_into(b)\n",
      "ConnectionResetError: [WinError 10054] An existing connection was forcibly closed by the remote host\n",
      "----------------------------------------\n"
     ]
    }
   ],
   "source": [
    "# Create RDD\n",
    "rdd = spark.sparkContext.range(1, 5)\n",
    "print(rdd.collect())"
   ]
  },
  {
   "cell_type": "markdown",
   "id": "e96767ed-ef80-4f50-a113-f7dab28cc8d0",
   "metadata": {},
   "source": [
    "## SparkContext Commonly Used Variables\n",
    "* applicationId – Returns a unique ID of a PySpark application.\n",
    "* version – Version of PySpark cluster where your job is running.\n",
    "* uiWebUrl – Provides the Spark Web UI url that started by SparkContext."
   ]
  },
  {
   "cell_type": "markdown",
   "id": "54ab0ccf-b5ee-419b-bf94-d3b70fe5d563",
   "metadata": {},
   "source": [
    "## SparkContext Commonly Used Methods\n",
    "* accumulator(value[, accum_param]) – It creates an pyspark accumulator variable with initial specified value. Only a driver can access accumulator variables.\n",
    "* broadcast(value) – read-only PySpark broadcast variable. This will be broadcast to the entire cluster. You can broadcast a variable to a PySpark cluster only once.\n",
    "* emptyRDD() – Creates an empty RDD\n",
    "* getOrCreate() – Creates or returns a SparkContext\n",
    "* hadoopFile() – Returns an RDD of a Hadoop file\n",
    "* newAPIHadoopFile() – Creates an RDD for a Hadoop file with a new API InputFormat.\n",
    "* sequenceFile() – Get an RDD for a Hadoop SequenceFile with given key and value types.\n",
    "* setLogLevel() – Change log level to debug, info, warn, fatal, and error\n",
    "* textFile() – Reads a text file from HDFS, local or any Hadoop supported file systems and returns an RDD\n",
    "* union() – Union two RDDs\n",
    "* wholeTextFiles() – Reads a text file in the folder from HDFS, local or any Hadoop supported file systems and returns an RDD of Tuple2. The first element of the tuple consists file name and the second element consists context of the text file."
   ]
  }
 ],
 "metadata": {
  "kernelspec": {
   "display_name": "Python 3 (ipykernel)",
   "language": "python",
   "name": "python3"
  },
  "language_info": {
   "codemirror_mode": {
    "name": "ipython",
    "version": 3
   },
   "file_extension": ".py",
   "mimetype": "text/x-python",
   "name": "python",
   "nbconvert_exporter": "python",
   "pygments_lexer": "ipython3",
   "version": "3.7.16"
  }
 },
 "nbformat": 4,
 "nbformat_minor": 5
}
