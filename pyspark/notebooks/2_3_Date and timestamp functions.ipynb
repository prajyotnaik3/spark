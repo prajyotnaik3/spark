{
 "cells": [
  {
   "cell_type": "markdown",
   "id": "46defacc-a5fd-4383-9281-0b7cc2bb9f87",
   "metadata": {},
   "source": [
    "## PySpark SQL Date and Timestamp Functions\n",
    "PySpark Date and Timestamp Functions are supported on DataFrame and SQL queries and they work similarly to traditional SQL, Date and Time are very important if you are using PySpark for ETL. Most of all these functions accept input as, Date type, Timestamp type, or String. If a String used, it should be in a default format that can be cast to date.\n",
    "\n",
    "* DateType default format is yyyy-MM-dd \n",
    "* TimestampType default format is yyyy-MM-dd HH:mm:ss.SSSS\n",
    "* Returns null if the input is a string that can not be cast to Date or Timestamp.\n",
    "\n",
    "PySpark SQL provides several Date & Timestamp functions hence keep an eye on and understand these. Always you should choose these functions instead of writing your own functions (UDF) as these functions are compile-time safe, handles null, and perform better when compared to PySpark UDF. If your PySpark application is critical on performance try to avoid using custom UDF at all costs as these are not guarantee performance.\n",
    "\n",
    "For readable purposes, I’ve grouped these functions into the following groups.\n",
    "* Date Functions\n",
    "* Timestamp Functions\n",
    "* Date and Timestamp Window Functions"
   ]
  },
  {
   "cell_type": "code",
   "execution_count": 1,
   "id": "ea30b632-99a6-49c8-8261-d145524d4988",
   "metadata": {},
   "outputs": [],
   "source": [
    "import findspark\n",
    "findspark.init()\n",
    "from pyspark.sql import SparkSession\n",
    "spark = SparkSession.builder.appName(\"SparkByExamples.com\").getOrCreate()"
   ]
  },
  {
   "cell_type": "code",
   "execution_count": 2,
   "id": "71e563ae-60f4-4c71-aba5-5e0b016304fc",
   "metadata": {},
   "outputs": [
    {
     "name": "stdout",
     "output_type": "stream",
     "text": [
      "+---+----------+\n",
      "| id|     input|\n",
      "+---+----------+\n",
      "|  1|2020-02-01|\n",
      "|  2|2019-03-11|\n",
      "|  3|2021-03-28|\n",
      "+---+----------+\n",
      "\n"
     ]
    }
   ],
   "source": [
    "from pyspark.sql.functions import *\n",
    "\n",
    "data=[[\"1\",\"2020-02-01\"],[\"2\",\"2019-03-11\"],[\"3\",\"2021-03-28\"]]\n",
    "df=spark.createDataFrame(data,[\"id\",\"input\"])\n",
    "df.show()"
   ]
  },
  {
   "cell_type": "markdown",
   "id": "e3f2c083-efde-44d0-a862-acaa7f55a6e3",
   "metadata": {},
   "source": [
    "### PySpark SQL Date and Timestamp Functions\n",
    "#### current_date()\n",
    "Use current_date() to get the current system date. By default, the data will be returned in yyyy-dd-mm format."
   ]
  },
  {
   "cell_type": "code",
   "execution_count": 3,
   "id": "12e0e822-3e77-4679-93bc-411fd183db8a",
   "metadata": {},
   "outputs": [
    {
     "name": "stdout",
     "output_type": "stream",
     "text": [
      "+------------+\n",
      "|current_date|\n",
      "+------------+\n",
      "|  2023-03-07|\n",
      "+------------+\n",
      "only showing top 1 row\n",
      "\n"
     ]
    }
   ],
   "source": [
    "#current_date()\n",
    "df.select(current_date().alias(\"current_date\")\n",
    "  ).show(1)"
   ]
  },
  {
   "cell_type": "markdown",
   "id": "c49bae05-9ba4-4c7a-8fe1-50143284546e",
   "metadata": {},
   "source": [
    "#### date_format()\n",
    "The below example uses date_format() to parses the date and converts from yyyy-dd-mm to MM-dd-yyyy format."
   ]
  },
  {
   "cell_type": "code",
   "execution_count": 4,
   "id": "b73c583e-5e0d-4c3d-a382-87c9b7e75852",
   "metadata": {},
   "outputs": [
    {
     "name": "stdout",
     "output_type": "stream",
     "text": [
      "root\n",
      " |-- input: string (nullable = true)\n",
      " |-- date_format: string (nullable = true)\n",
      "\n",
      "+----------+-----------+\n",
      "|     input|date_format|\n",
      "+----------+-----------+\n",
      "|2020-02-01| 02-01-2020|\n",
      "|2019-03-11| 03-11-2019|\n",
      "|2021-03-28| 03-28-2021|\n",
      "+----------+-----------+\n",
      "\n"
     ]
    }
   ],
   "source": [
    "#date_format()\n",
    "df2 = df.select(col(\"input\"), \n",
    "    date_format(col(\"input\"), \"MM-dd-yyyy\").alias(\"date_format\") \n",
    "  )\n",
    "df2.printSchema()\n",
    "df2.show()"
   ]
  },
  {
   "cell_type": "markdown",
   "id": "bbf41242-dfe0-4a53-a065-2ceb1d8650c6",
   "metadata": {},
   "source": [
    "#### to_date()\n",
    "Below example converts string in date format yyyy-MM-dd to a DateType yyyy-MM-dd using to_date(). You can also use this to convert into any specific format. PySpark supports all patterns supports on Java DateTimeFormatter."
   ]
  },
  {
   "cell_type": "code",
   "execution_count": 5,
   "id": "f3001d5f-61e5-4f62-9238-f32fc5fda8f9",
   "metadata": {},
   "outputs": [
    {
     "name": "stdout",
     "output_type": "stream",
     "text": [
      "root\n",
      " |-- input: string (nullable = true)\n",
      " |-- to_date: date (nullable = true)\n",
      "\n",
      "+----------+----------+\n",
      "|     input|   to_date|\n",
      "+----------+----------+\n",
      "|2020-02-01|2020-02-01|\n",
      "|2019-03-11|2019-03-11|\n",
      "|2021-03-28|2021-03-28|\n",
      "+----------+----------+\n",
      "\n"
     ]
    }
   ],
   "source": [
    "#to_date()\n",
    "df2 = df.select(col(\"input\"), \n",
    "    to_date(col(\"input\"), \"yyy-MM-dd\").alias(\"to_date\") \n",
    "  )\n",
    "df2.printSchema()\n",
    "df2.show()"
   ]
  },
  {
   "cell_type": "markdown",
   "id": "e4eb771b-c784-456c-9a28-ed8399e57142",
   "metadata": {},
   "source": [
    "#### datediff()\n",
    "The below example returns the difference between two dates using datediff()."
   ]
  },
  {
   "cell_type": "code",
   "execution_count": 6,
   "id": "9839871a-acf9-431f-82ad-e624b3e833f4",
   "metadata": {},
   "outputs": [
    {
     "name": "stdout",
     "output_type": "stream",
     "text": [
      "+----------+--------+\n",
      "|     input|datediff|\n",
      "+----------+--------+\n",
      "|2020-02-01|    1130|\n",
      "|2019-03-11|    1457|\n",
      "|2021-03-28|     709|\n",
      "+----------+--------+\n",
      "\n"
     ]
    }
   ],
   "source": [
    "#datediff()\n",
    "df.select(col(\"input\"), \n",
    "    datediff(current_date(),col(\"input\")).alias(\"datediff\")  \n",
    "  ).show()"
   ]
  },
  {
   "cell_type": "markdown",
   "id": "3d096db3-432c-4aea-8c63-858d6afa6cf0",
   "metadata": {},
   "source": [
    "#### months_between()\n",
    "The below example returns the months between two dates using months_between()."
   ]
  },
  {
   "cell_type": "code",
   "execution_count": 7,
   "id": "3b7d0c6f-9a80-44fb-a25e-53a54b3cc1dd",
   "metadata": {},
   "outputs": [
    {
     "name": "stdout",
     "output_type": "stream",
     "text": [
      "+----------+--------------+\n",
      "|     input|months_between|\n",
      "+----------+--------------+\n",
      "|2020-02-01|   37.19354839|\n",
      "|2019-03-11|   47.87096774|\n",
      "|2021-03-28|   23.32258065|\n",
      "+----------+--------------+\n",
      "\n"
     ]
    }
   ],
   "source": [
    "#months_between()\n",
    "df.select(col(\"input\"), \n",
    "    months_between(current_date(),col(\"input\")).alias(\"months_between\")  \n",
    "  ).show()"
   ]
  },
  {
   "cell_type": "markdown",
   "id": "ac03c865-2d6e-40c5-b6ae-d4d27ad1b108",
   "metadata": {},
   "source": [
    "#### trunc()\n",
    "The below example truncates the date at a specified unit using trunc()."
   ]
  },
  {
   "cell_type": "code",
   "execution_count": 8,
   "id": "2746a47d-cf0b-4062-85f6-c67fd829684f",
   "metadata": {},
   "outputs": [
    {
     "name": "stdout",
     "output_type": "stream",
     "text": [
      "+----------+-----------+----------+\n",
      "|     input|Month_Trunc|Month_Year|\n",
      "+----------+-----------+----------+\n",
      "|2020-02-01| 2020-02-01|2020-01-01|\n",
      "|2019-03-11| 2019-03-01|2019-01-01|\n",
      "|2021-03-28| 2021-03-01|2021-01-01|\n",
      "+----------+-----------+----------+\n",
      "\n"
     ]
    }
   ],
   "source": [
    "#trunc()\n",
    "df.select(col(\"input\"), \n",
    "    trunc(col(\"input\"),\"Month\").alias(\"Month_Trunc\"), \n",
    "    trunc(col(\"input\"),\"Year\").alias(\"Month_Year\")\n",
    "   ).show()"
   ]
  },
  {
   "cell_type": "markdown",
   "id": "7fe93416-20bf-426f-94ed-066eb7e8e16d",
   "metadata": {},
   "source": [
    "#### add_months() , date_add(), date_sub()\n",
    "Here we are adding and subtracting date and month from a given input."
   ]
  },
  {
   "cell_type": "code",
   "execution_count": 9,
   "id": "4bc9cdc5-e008-46a9-936e-47ecfd45ff4c",
   "metadata": {},
   "outputs": [
    {
     "name": "stdout",
     "output_type": "stream",
     "text": [
      "+----------+----------+----------+----------+----------+\n",
      "|     input|add_months|sub_months|  date_add|  date_sub|\n",
      "+----------+----------+----------+----------+----------+\n",
      "|2020-02-01|2020-05-01|2019-11-01|2020-02-05|2020-01-28|\n",
      "|2019-03-11|2019-06-11|2018-12-11|2019-03-15|2019-03-07|\n",
      "|2021-03-28|2021-06-28|2020-12-28|2021-04-01|2021-03-24|\n",
      "+----------+----------+----------+----------+----------+\n",
      "\n"
     ]
    }
   ],
   "source": [
    "#add_months() , date_add(), date_sub()\n",
    "df.select(col(\"input\"), \n",
    "    add_months(col(\"input\"),3).alias(\"add_months\"), \n",
    "    add_months(col(\"input\"),-3).alias(\"sub_months\"), \n",
    "    date_add(col(\"input\"),4).alias(\"date_add\"), \n",
    "    date_sub(col(\"input\"),4).alias(\"date_sub\") \n",
    "  ).show()"
   ]
  },
  {
   "cell_type": "markdown",
   "id": "707e4ea0-7669-4458-9feb-7f8eb26281e8",
   "metadata": {},
   "source": [
    "#### year(), month(), next_day(), weekofyear()"
   ]
  },
  {
   "cell_type": "code",
   "execution_count": 10,
   "id": "bdb95040-9c7b-4b8a-bf22-a2bd545191cb",
   "metadata": {},
   "outputs": [
    {
     "name": "stdout",
     "output_type": "stream",
     "text": [
      "+----------+----+-----+----------+----------+\n",
      "|     input|year|month|  next_day|weekofyear|\n",
      "+----------+----+-----+----------+----------+\n",
      "|2020-02-01|2020|    2|2020-02-02|         5|\n",
      "|2019-03-11|2019|    3|2019-03-17|        11|\n",
      "|2021-03-28|2021|    3|2021-04-04|        12|\n",
      "+----------+----+-----+----------+----------+\n",
      "\n"
     ]
    }
   ],
   "source": [
    "df.select(col(\"input\"), \n",
    "     year(col(\"input\")).alias(\"year\"), \n",
    "     month(col(\"input\")).alias(\"month\"), \n",
    "     next_day(col(\"input\"),\"Sunday\").alias(\"next_day\"), \n",
    "     weekofyear(col(\"input\")).alias(\"weekofyear\") \n",
    "  ).show()"
   ]
  },
  {
   "cell_type": "markdown",
   "id": "8b7d2d92-ba87-41a1-af19-b93fb4df042d",
   "metadata": {},
   "source": [
    "#### dayofweek(), dayofmonth(), dayofyear()"
   ]
  },
  {
   "cell_type": "code",
   "execution_count": 11,
   "id": "f7ad5421-06a8-4e14-bee6-4e237e70c2d6",
   "metadata": {},
   "outputs": [
    {
     "name": "stdout",
     "output_type": "stream",
     "text": [
      "+----------+---------+----------+---------+\n",
      "|     input|dayofweek|dayofmonth|dayofyear|\n",
      "+----------+---------+----------+---------+\n",
      "|2020-02-01|        7|         1|       32|\n",
      "|2019-03-11|        2|        11|       70|\n",
      "|2021-03-28|        1|        28|       87|\n",
      "+----------+---------+----------+---------+\n",
      "\n"
     ]
    }
   ],
   "source": [
    "df.select(col(\"input\"),  \n",
    "     dayofweek(col(\"input\")).alias(\"dayofweek\"), \n",
    "     dayofmonth(col(\"input\")).alias(\"dayofmonth\"), \n",
    "     dayofyear(col(\"input\")).alias(\"dayofyear\"), \n",
    "  ).show()"
   ]
  },
  {
   "cell_type": "code",
   "execution_count": 12,
   "id": "52c88274-e7eb-4732-be37-3d0866958990",
   "metadata": {},
   "outputs": [
    {
     "name": "stdout",
     "output_type": "stream",
     "text": [
      "root\n",
      " |-- id: string (nullable = true)\n",
      " |-- input: string (nullable = true)\n",
      "\n",
      "+---+-----------------------+\n",
      "|id |input                  |\n",
      "+---+-----------------------+\n",
      "|1  |02-01-2020 11 01 19 06 |\n",
      "|2  |03-01-2019 12 01 19 406|\n",
      "|3  |03-01-2021 12 01 19 406|\n",
      "+---+-----------------------+\n",
      "\n"
     ]
    }
   ],
   "source": [
    "data=[[\"1\",\"02-01-2020 11 01 19 06\"],[\"2\",\"03-01-2019 12 01 19 406\"],[\"3\",\"03-01-2021 12 01 19 406\"]]\n",
    "df2=spark.createDataFrame(data,[\"id\",\"input\"])\n",
    "df2.printSchema()\n",
    "df2.show(truncate=False)"
   ]
  },
  {
   "cell_type": "markdown",
   "id": "663b3c8f-c30a-43e0-9fdf-b1bcc09409a3",
   "metadata": {},
   "source": [
    "#### current_timestamp()\n",
    "returns the current timestamp in spark default format yyyy-MM-dd HH:mm:ss"
   ]
  },
  {
   "cell_type": "code",
   "execution_count": 13,
   "id": "039e9f89-4c8a-460c-8544-4cf7ab2ffa80",
   "metadata": {},
   "outputs": [
    {
     "name": "stdout",
     "output_type": "stream",
     "text": [
      "+-----------------------+\n",
      "|current_timestamp      |\n",
      "+-----------------------+\n",
      "|2023-03-07 19:50:41.001|\n",
      "+-----------------------+\n",
      "only showing top 1 row\n",
      "\n"
     ]
    }
   ],
   "source": [
    "#current_timestamp()\n",
    "df2.select(current_timestamp().alias(\"current_timestamp\")\n",
    "  ).show(1,truncate=False)"
   ]
  },
  {
   "cell_type": "markdown",
   "id": "3176ea57-8d34-443b-9f68-927069b7874f",
   "metadata": {},
   "source": [
    "#### to_timestamp()\n",
    "Converts string timestamp to Timestamp type format."
   ]
  },
  {
   "cell_type": "code",
   "execution_count": 14,
   "id": "489ae4fb-e361-410a-b240-062163fd78ff",
   "metadata": {},
   "outputs": [
    {
     "name": "stdout",
     "output_type": "stream",
     "text": [
      "+-----------------------+-----------------------+\n",
      "|input                  |to_timestamp           |\n",
      "+-----------------------+-----------------------+\n",
      "|02-01-2020 11 01 19 06 |2020-02-01 11:01:19.06 |\n",
      "|03-01-2019 12 01 19 406|2019-03-01 12:01:19.406|\n",
      "|03-01-2021 12 01 19 406|2021-03-01 12:01:19.406|\n",
      "+-----------------------+-----------------------+\n",
      "\n"
     ]
    }
   ],
   "source": [
    "#to_timestamp()\n",
    "df2.select(col(\"input\"), \n",
    "    to_timestamp(col(\"input\"), \"MM-dd-yyyy HH mm ss SSS\").alias(\"to_timestamp\") \n",
    "  ).show(truncate=False)"
   ]
  },
  {
   "cell_type": "markdown",
   "id": "60d2c3fc-05c4-4b70-bd7f-7b76c7bbd770",
   "metadata": {},
   "source": [
    "#### hour(), Minute() and second()"
   ]
  },
  {
   "cell_type": "code",
   "execution_count": 15,
   "id": "dea73ca4-90f0-4c87-9c4c-35df424960cb",
   "metadata": {},
   "outputs": [
    {
     "name": "stdout",
     "output_type": "stream",
     "text": [
      "+-----------------------+----+------+------+\n",
      "|input                  |hour|minute|second|\n",
      "+-----------------------+----+------+------+\n",
      "|2020-02-01 11:01:19.06 |11  |1     |19    |\n",
      "|2019-03-01 12:01:19.406|12  |1     |19    |\n",
      "|2021-03-01 12:01:19.406|12  |1     |19    |\n",
      "+-----------------------+----+------+------+\n",
      "\n"
     ]
    }
   ],
   "source": [
    "#hour, minute,second\n",
    "data=[[\"1\",\"2020-02-01 11:01:19.06\"],[\"2\",\"2019-03-01 12:01:19.406\"],[\"3\",\"2021-03-01 12:01:19.406\"]]\n",
    "df3=spark.createDataFrame(data,[\"id\",\"input\"])\n",
    "\n",
    "df3.select(col(\"input\"), \n",
    "    hour(col(\"input\")).alias(\"hour\"), \n",
    "    minute(col(\"input\")).alias(\"minute\"),\n",
    "    second(col(\"input\")).alias(\"second\") \n",
    "  ).show(truncate=False)"
   ]
  }
 ],
 "metadata": {
  "kernelspec": {
   "display_name": "Python 3 (ipykernel)",
   "language": "python",
   "name": "python3"
  },
  "language_info": {
   "codemirror_mode": {
    "name": "ipython",
    "version": 3
   },
   "file_extension": ".py",
   "mimetype": "text/x-python",
   "name": "python",
   "nbconvert_exporter": "python",
   "pygments_lexer": "ipython3",
   "version": "3.7.16"
  }
 },
 "nbformat": 4,
 "nbformat_minor": 5
}
