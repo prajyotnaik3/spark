{
 "cells": [
  {
   "cell_type": "markdown",
   "id": "a5c541f1-f9f4-4414-84d8-f23686abcd89",
   "metadata": {},
   "source": [
    "# PySpark - Parquet\n",
    "Pyspark SQL provides methods to read Parquet file into DataFrame and write DataFrame to Parquet files, parquet() function from DataFrameReader and DataFrameWriter are used to read from and write/create a Parquet file respectively. Parquet files maintain the schema along with the data hence it is used to process a structured file.\n",
    "\n",
    "Below are the simple statements on how to write and read parquet files in PySpark which I will explain in detail later sections.\n",
    "```\n",
    "df.write.parquet(\"/tmp/out/people.parquet\") \n",
    "parDF1=spark.read.parquet(\"/temp/out/people.parquet\")\n",
    "```\n",
    "\n",
    "## What is Parquet File?\n",
    "Apache Parquet file is a columnar storage format available to any project in the Hadoop ecosystem, regardless of the choice of data processing framework, data model, or programming language.\n",
    "\n",
    "## Advantages:\n",
    "While querying columnar storage, it skips the nonrelevant data very quickly, making faster query execution. As a result aggregation queries consume less time compared to row-oriented databases.\n",
    "\n",
    "It is able to support advanced nested data structures.\n",
    "\n",
    "Parquet supports efficient compression options and encoding schemes.\n",
    "\n",
    "Pyspark SQL provides support for both reading and writing Parquet files that automatically capture the schema of the original data, It also reduces data storage by 75% on average. Pyspark by default supports Parquet in its library hence we don’t need to add any dependency libraries."
   ]
  },
  {
   "cell_type": "code",
   "execution_count": 1,
   "id": "7b3779aa-752f-4064-8e72-3e13c72a8fa3",
   "metadata": {},
   "outputs": [],
   "source": [
    "import findspark\n",
    "findspark.init()\n",
    "from pyspark.sql import SparkSession\n",
    "spark = SparkSession.builder.master(\"local[1]\") \\\n",
    "          .appName(\"SparkByExamples.com\") \\\n",
    "          .getOrCreate()"
   ]
  },
  {
   "cell_type": "code",
   "execution_count": 2,
   "id": "19bad5b4-c1f2-4896-a227-fdbe485a3a1a",
   "metadata": {},
   "outputs": [],
   "source": [
    "data =[(\"James \",\"\",\"Smith\",\"36636\",\"M\",3000),\n",
    "              (\"Michael \",\"Rose\",\"\",\"40288\",\"M\",4000),\n",
    "              (\"Robert \",\"\",\"Williams\",\"42114\",\"M\",4000),\n",
    "              (\"Maria \",\"Anne\",\"Jones\",\"39192\",\"F\",4000),\n",
    "              (\"Jen\",\"Mary\",\"Brown\",\"\",\"F\",-1)]\n",
    "columns=[\"firstname\",\"middlename\",\"lastname\",\"dob\",\"gender\",\"salary\"]\n",
    "df=spark.createDataFrame(data,columns)"
   ]
  },
  {
   "cell_type": "markdown",
   "id": "4ab1172d-07be-465a-ac28-e2ec808cfd75",
   "metadata": {},
   "source": [
    "## Pyspark Write DataFrame to Parquet file format\n",
    "Now let’s create a parquet file from PySpark DataFrame by calling the parquet() function of DataFrameWriter class. When you write a DataFrame to parquet file, it automatically preserves column names and their data types. Each part file Pyspark creates has the .parquet file extension. Below is the example,"
   ]
  },
  {
   "cell_type": "code",
   "execution_count": 3,
   "id": "367b6547-45b4-49d3-94c7-99f1259caec8",
   "metadata": {},
   "outputs": [],
   "source": [
    "df.write.parquet(\"../resources/tmp/output/people.parquet\")"
   ]
  },
  {
   "cell_type": "markdown",
   "id": "b09d4bdd-eae5-45dd-962a-8886d5154dcc",
   "metadata": {},
   "source": [
    "## Pyspark Read Parquet file into DataFrame\n",
    "Pyspark provides a parquet() method in DataFrameReader class to read the parquet file into dataframe. Below is an example of a reading parquet file to data frame."
   ]
  },
  {
   "cell_type": "code",
   "execution_count": 7,
   "id": "2135b987-df73-4a27-b74c-6da4ec8fa18e",
   "metadata": {},
   "outputs": [],
   "source": [
    "parqDF=spark.read.parquet(\"../resources/tmp/output/people.parquet\")"
   ]
  },
  {
   "cell_type": "markdown",
   "id": "41c11212-b0ae-4468-a41b-1f600320245d",
   "metadata": {},
   "source": [
    "## Append or Overwrite an existing Parquet file\n",
    "Using append save mode, you can append a dataframe to an existing parquet file. Incase to overwrite use overwrite save mode."
   ]
  },
  {
   "cell_type": "code",
   "execution_count": 5,
   "id": "b28eb545-cfc6-4727-a4c0-4992abfc52d9",
   "metadata": {},
   "outputs": [],
   "source": [
    "df.write.mode('append').parquet(\"../resources/tmp/output/people.parque\")\n",
    "df.write.mode('overwrite').parquet(\"../resources/tmp/output/people.parque\")"
   ]
  },
  {
   "cell_type": "markdown",
   "id": "5adccafa-9d4f-4345-9b34-8837b6b880c3",
   "metadata": {},
   "source": [
    "## Executing SQL queries DataFrame\n",
    "Pyspark Sql provides to create temporary views on parquet files for executing sql queries. These views are available until your program exists."
   ]
  },
  {
   "cell_type": "code",
   "execution_count": 8,
   "id": "8722bf2e-d0b4-4ab1-9f1b-ea407fa89c5d",
   "metadata": {},
   "outputs": [],
   "source": [
    "parqDF.createOrReplaceTempView(\"ParquetTable\")\n",
    "parqSQL = spark.sql(\"select * from ParquetTable where salary >= 4000 \")"
   ]
  },
  {
   "cell_type": "markdown",
   "id": "0da6ecff-27dc-4dba-ba5e-e569135b9ed7",
   "metadata": {},
   "source": [
    "## Creating a table on Parquet file\n",
    "Now let’s walk through executing SQL queries on parquet file. In order to execute sql queries, create a temporary view or table directly on the parquet file instead of creating from DataFrame."
   ]
  },
  {
   "cell_type": "code",
   "execution_count": 11,
   "id": "fec03187-78ac-425c-a4b6-6b5fcd80bd90",
   "metadata": {},
   "outputs": [
    {
     "name": "stdout",
     "output_type": "stream",
     "text": [
      "+---------+----------+--------+-----+------+------+\n",
      "|firstname|middlename|lastname|  dob|gender|salary|\n",
      "+---------+----------+--------+-----+------+------+\n",
      "|   James |          |   Smith|36636|     M|  3000|\n",
      "| Michael |      Rose|        |40288|     M|  4000|\n",
      "|  Robert |          |Williams|42114|     M|  4000|\n",
      "|   Maria |      Anne|   Jones|39192|     F|  4000|\n",
      "|      Jen|      Mary|   Brown|     |     F|    -1|\n",
      "+---------+----------+--------+-----+------+------+\n",
      "\n"
     ]
    }
   ],
   "source": [
    "spark.sql(\"CREATE OR REPLACE TEMPORARY VIEW PERSON USING parquet OPTIONS (path '../resources/tmp/output/people.parquet')\")\n",
    "spark.sql(\"SELECT * FROM PERSON\").show()"
   ]
  },
  {
   "cell_type": "markdown",
   "id": "3cfe8b53-8a6d-4fef-9de3-b3035117b97c",
   "metadata": {},
   "source": [
    "## Create Parquet partition file\n",
    "When we execute a particular query on the PERSON table, it scan’s through all the rows and returns the results back. This is similar to the traditional database query execution. In PySpark, we can improve query execution in an optimized way by doing partitions on the data using pyspark partitionBy() method. Following is the example of partitionBy()."
   ]
  },
  {
   "cell_type": "code",
   "execution_count": 12,
   "id": "1ce258e5-bf0a-4361-b9da-7c7b4f387e8b",
   "metadata": {},
   "outputs": [],
   "source": [
    "df.write.partitionBy(\"gender\",\"salary\").mode(\"overwrite\").parquet(\"../resources/tmp/output/people2.parquet\")"
   ]
  },
  {
   "cell_type": "markdown",
   "id": "228b4989-3ff2-4a43-93bc-77e970a5de45",
   "metadata": {},
   "source": [
    "## Retrieving from a partitioned Parquet file\n",
    "The example below explains of reading partitioned parquet file into DataFrame with gender=M."
   ]
  },
  {
   "cell_type": "code",
   "execution_count": 13,
   "id": "62ccc8df-8c10-4a26-81d2-b4103b18bfe9",
   "metadata": {},
   "outputs": [
    {
     "name": "stdout",
     "output_type": "stream",
     "text": [
      "+---------+----------+--------+-----+------+\n",
      "|firstname|middlename|lastname|dob  |salary|\n",
      "+---------+----------+--------+-----+------+\n",
      "|James    |          |Smith   |36636|3000  |\n",
      "|Michael  |Rose      |        |40288|4000  |\n",
      "|Robert   |          |Williams|42114|4000  |\n",
      "+---------+----------+--------+-----+------+\n",
      "\n"
     ]
    }
   ],
   "source": [
    "parDF2=spark.read.parquet(\"../resources/tmp/output/people2.parquet/gender=M\")\n",
    "parDF2.show(truncate=False)"
   ]
  },
  {
   "cell_type": "markdown",
   "id": "e9ae1125-5001-4ffc-81c9-f3e928408be6",
   "metadata": {},
   "source": [
    "## Creating a table on Partitioned Parquet file\n",
    "Here, I am creating a table on partitioned parquet file and executing a query that executes faster than the table without partition, hence improving the performance."
   ]
  },
  {
   "cell_type": "code",
   "execution_count": 14,
   "id": "165b2f0b-3ed0-4bef-a3ed-d85360bd2173",
   "metadata": {},
   "outputs": [
    {
     "name": "stdout",
     "output_type": "stream",
     "text": [
      "+---------+----------+--------+-----+------+\n",
      "|firstname|middlename|lastname|  dob|salary|\n",
      "+---------+----------+--------+-----+------+\n",
      "|   Maria |      Anne|   Jones|39192|  4000|\n",
      "|      Jen|      Mary|   Brown|     |    -1|\n",
      "+---------+----------+--------+-----+------+\n",
      "\n"
     ]
    }
   ],
   "source": [
    "spark.sql(\"CREATE TEMPORARY VIEW PERSON2 USING parquet OPTIONS (path '../resources/tmp/output/people2.parquet/gender=F')\")\n",
    "spark.sql(\"SELECT * FROM PERSON2\" ).show()"
   ]
  }
 ],
 "metadata": {
  "kernelspec": {
   "display_name": "Python 3 (ipykernel)",
   "language": "python",
   "name": "python3"
  },
  "language_info": {
   "codemirror_mode": {
    "name": "ipython",
    "version": 3
   },
   "file_extension": ".py",
   "mimetype": "text/x-python",
   "name": "python",
   "nbconvert_exporter": "python",
   "pygments_lexer": "ipython3",
   "version": "3.7.16"
  }
 },
 "nbformat": 4,
 "nbformat_minor": 5
}
