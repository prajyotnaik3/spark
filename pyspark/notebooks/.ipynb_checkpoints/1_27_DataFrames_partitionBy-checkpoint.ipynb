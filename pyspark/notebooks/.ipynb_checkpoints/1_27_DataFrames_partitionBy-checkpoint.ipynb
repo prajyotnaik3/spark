{
 "cells": [
  {
   "cell_type": "markdown",
   "id": "8333c0a6-4cb2-42d9-adbe-9873c60298d0",
   "metadata": {},
   "source": [
    "## PySpark partitionBy() – Write to Disk\n",
    "PySpark partitionBy() is a function of pyspark.sql.DataFrameWriter class which is used to partition the large dataset (DataFrame) into smaller files based on one or multiple columns while writing to disk, let’s see how to use this with Python examples.\n",
    "\n",
    "Partitioning the data on the file system is a way to improve the performance of the query when dealing with a large dataset in the Data lake. A Data Lake is a centralized repository of structured, semi-structured, unstructured, and binary data that allows you to store a large amount of data as-is in its original raw format.\n",
    "\n",
    "### What is PySpark Partition?\n",
    "PySpark partition is a way to split a large dataset into smaller datasets based on one or more partition keys. When you create a DataFrame from a file/table, based on certain parameters PySpark creates the DataFrame with a certain number of partitions in memory. This is one of the main advantages of PySpark DataFrame over Pandas DataFrame. Transformations on partitioned data run faster as they execute transformations parallelly for each partition.\n",
    "\n",
    "PySpark supports partition in two ways; partition in memory (DataFrame) and partition on the disk (File system).\n",
    "\n",
    "Partition in memory: You can partition or repartition the DataFrame by calling repartition() or coalesce() transformations.\n",
    "Partition on disk: While writing the PySpark DataFrame back to disk, you can choose how to partition the data based on columns using partitionBy() of pyspark.sql.DataFrameWriter. This is similar to Hives partitions scheme.\n",
    "\n",
    "### Partition Advantages\n",
    "As you are aware PySpark is designed to process large datasets with 100x faster than the tradition processing, this wouldn’t have been possible with out partition. Below are some of the advantages using PySpark partitions on memory or on disk.\n",
    "* Fast accessed to the data\n",
    "* Provides the ability to perform an operation on a smaller dataset\n",
    "\n",
    "Partition at rest (disk) is a feature of many databases and data processing frameworks and it is key to make jobs work at scale.\n",
    "\n",
    "### Create DataFrame"
   ]
  },
  {
   "cell_type": "code",
   "execution_count": 28,
   "id": "d1e88f7c-4ab5-4329-8202-1cf7e1daf2ab",
   "metadata": {},
   "outputs": [],
   "source": [
    "import findspark\n",
    "findspark.init()\n",
    "from pyspark.sql import SparkSession\n",
    "spark = SparkSession.builder.appName(\"SparkByExamples.com\").getOrCreate()"
   ]
  },
  {
   "cell_type": "code",
   "execution_count": 29,
   "id": "561bbfa7-3cf3-4482-bcef-907fbb20beb7",
   "metadata": {},
   "outputs": [
    {
     "name": "stdout",
     "output_type": "stream",
     "text": [
      "root\n",
      " |-- RecordNumber: string (nullable = true)\n",
      " |-- Country: string (nullable = true)\n",
      " |-- City: string (nullable = true)\n",
      " |-- Zipcode: string (nullable = true)\n",
      " |-- State: string (nullable = true)\n",
      "\n"
     ]
    }
   ],
   "source": [
    "df=spark.read.option(\"header\",True) \\\n",
    "        .csv(\"../resources/simple-zipcodes.csv\")\n",
    "df.printSchema()"
   ]
  },
  {
   "cell_type": "markdown",
   "id": "404b6b63-62df-46d3-bea2-310e0b1a0135",
   "metadata": {},
   "source": [
    "### PySpark partitionBy()\n",
    "PySpark partitionBy() is a function of pyspark.sql.DataFrameWriter class which is used to partition based on column values while writing DataFrame to Disk/File system.\n",
    "\n",
    "Syntax: partitionBy(self, *cols)<br>\n",
    "When you write PySpark DataFrame to disk by calling partitionBy(), PySpark splits the records based on the partition column and stores each partition data into a sub-directory."
   ]
  },
  {
   "cell_type": "code",
   "execution_count": 30,
   "id": "d397b2d4-59b5-41fc-966f-48ec3394fe75",
   "metadata": {},
   "outputs": [],
   "source": [
    "#partitionBy()\n",
    "df.write.option(\"header\",True) \\\n",
    "        .partitionBy(\"state\") \\\n",
    "        .mode(\"overwrite\") \\\n",
    "        .csv(\"/tmp/zipcodes-state\")"
   ]
  },
  {
   "cell_type": "markdown",
   "id": "d73652f1-be47-4b33-813a-5506ac30ae77",
   "metadata": {},
   "source": [
    "On our DataFrame, we have a total of 6 different states hence, it creates 6 directories as shown below. The name of the sub-directory would be the partition column and its value (partition column=value).\n",
    "\n",
    "Note: While writing the data as partitions, PySpark eliminates the partition column on the data file and adds partition column & value to the folder name, hence it saves some space on storage.To validate this, open any partition file in a text editor and check.\n",
    "\n",
    "On each directory, you may see one or more part files (since our dataset is small, all records for each state are kept in a single part file). You can change this behavior by repartition() the data in memory first. Specify the number of partitions (part files) you would want for each state as an argument to the repartition() method."
   ]
  },
  {
   "cell_type": "markdown",
   "id": "9f37b973-c434-4af1-953d-2191c0358c6c",
   "metadata": {},
   "source": [
    "### PySpark partitionBy() Multiple Columns\n",
    "You can also create partitions on multiple columns using PySpark partitionBy(). Just pass columns you want to partition as arguments to this method."
   ]
  },
  {
   "cell_type": "code",
   "execution_count": 31,
   "id": "dadc4615-1646-4120-95d1-95f76310bfd2",
   "metadata": {},
   "outputs": [],
   "source": [
    "#partitionBy() multiple columns\n",
    "df.write.option(\"header\",True) \\\n",
    "        .partitionBy(\"state\",\"city\") \\\n",
    "        .mode(\"overwrite\") \\\n",
    "        .csv(\"/tmp/zipcodes-state\")"
   ]
  },
  {
   "cell_type": "markdown",
   "id": "def608e2-8a58-4896-9f3b-45e98b0bb47e",
   "metadata": {},
   "source": [
    "It creates a folder hierarchy for each partition; we have mentioned the first partition as state followed by city hence, it creates a city folder inside the state folder (one folder for each city in a state)."
   ]
  },
  {
   "cell_type": "markdown",
   "id": "7d9eecb3-6646-49c0-9a66-d74b4563e0a6",
   "metadata": {},
   "source": [
    "### Using repartition() and partitionBy() together\n",
    "For each partition column, if you wanted to further divide into several partitions, use repartition() and partitionBy() together.\n",
    "\n",
    "repartition() creates specified number of partitions in memory. The partitionBy()  will write files to disk for each memory partition and partition column."
   ]
  },
  {
   "cell_type": "code",
   "execution_count": 32,
   "id": "92623d51-c557-4b6c-8e0b-2e89b5955dec",
   "metadata": {},
   "outputs": [],
   "source": [
    "#Use repartition() and partitionBy() together\n",
    "df.repartition(2) \\\n",
    "    .write.option(\"header\",True) \\\n",
    "    .partitionBy(\"state\") \\\n",
    "    .mode(\"overwrite\") \\\n",
    "    .csv(\"../resources/tmp/zipcodes-state-more\")"
   ]
  },
  {
   "cell_type": "markdown",
   "id": "d5a4715f-ab8a-4722-90bf-228e66269c0a",
   "metadata": {},
   "source": [
    "If you look at the folder, you should see only 2 part files for each state. Dataset has 6 unique states and 2 memory partitions for each state, hence the above code creates a maximum total of 6 x 2 = 12 part files.\n",
    "\n",
    "Note: Since total zipcodes for each US state differ in large, California and Texas have many whereas Delaware has very few, hence it creates a Data Skew (Total rows per each part file differs in large)."
   ]
  },
  {
   "cell_type": "markdown",
   "id": "2360f953-9d1e-4cff-9469-1c0e4cbd4295",
   "metadata": {},
   "source": [
    "### Data Skew – Control Number of Records per Partition File\n",
    "Use option maxRecordsPerFile if you want to control the number of records for each partition. This is particularly helpful when your data is skewed (Having some partitions with very low records and other partitions with high number of records)."
   ]
  },
  {
   "cell_type": "code",
   "execution_count": 33,
   "id": "3ae1e21e-553d-4960-a5f8-cd4d80379225",
   "metadata": {},
   "outputs": [],
   "source": [
    "#partitionBy() control number of partitions\n",
    "df.write.option(\"header\",True) \\\n",
    "        .option(\"maxRecordsPerFile\", 2) \\\n",
    "        .partitionBy(\"state\", \"City\") \\\n",
    "        .mode(\"overwrite\") \\\n",
    "        .csv(\"../resources/tmp/zipcodes-state\")"
   ]
  },
  {
   "cell_type": "markdown",
   "id": "06d28cba-1451-4312-a4b1-0eaf4c93622c",
   "metadata": {},
   "source": [
    "### Read a Specific Partition\n",
    "Reads are much faster on partitioned data. This code snippet retrieves the data from a specific partition \"state=AL and city=SPRINGVILLE\". Here, It just reads the data from that specific folder instead of scanning a whole file (when not partitioned)."
   ]
  },
  {
   "cell_type": "code",
   "execution_count": 34,
   "id": "4991f605-6fda-4294-8798-260b4127fc0f",
   "metadata": {},
   "outputs": [
    {
     "name": "stdout",
     "output_type": "stream",
     "text": [
      "root\n",
      " |-- RecordNumber: string (nullable = true)\n",
      " |-- Country: string (nullable = true)\n",
      " |-- Zipcode: string (nullable = true)\n",
      "\n",
      "+------------+-------+-------+\n",
      "|RecordNumber|Country|Zipcode|\n",
      "+------------+-------+-------+\n",
      "|       54355|     US|  35146|\n",
      "+------------+-------+-------+\n",
      "\n"
     ]
    }
   ],
   "source": [
    "dfSinglePart=spark.read.option(\"header\",True) \\\n",
    "            .csv(\"../resources/tmp/zipcodes-state/state=AL/city=SPRINGVILLE\")\n",
    "dfSinglePart.printSchema()\n",
    "dfSinglePart.show()\n"
   ]
  },
  {
   "cell_type": "markdown",
   "id": "6d5d2cb4-17f0-49bb-b749-2151986ffa88",
   "metadata": {},
   "source": [
    "### PySpark SQL – Read Partition Data\n",
    "This is an example of how to write a Spark DataFrame by preserving the partition columns on DataFrame."
   ]
  },
  {
   "cell_type": "code",
   "execution_count": 35,
   "id": "ea433118-8e4c-4304-b5e7-94061071b22f",
   "metadata": {},
   "outputs": [
    {
     "name": "stdout",
     "output_type": "stream",
     "text": [
      "+------------+-------+-------+-----+-----------+\n",
      "|RecordNumber|Country|Zipcode|state|       City|\n",
      "+------------+-------+-------+-----+-----------+\n",
      "|       54355|     US|  35146|   AL|SPRINGVILLE|\n",
      "+------------+-------+-------+-----+-----------+\n",
      "\n"
     ]
    }
   ],
   "source": [
    "parqDF = spark.read.option(\"header\",True) \\\n",
    "                  .csv(\"../resources/tmp/zipcodes-state\")\n",
    "parqDF.createOrReplaceTempView(\"ZIPCODE\")\n",
    "spark.sql(\"select * from ZIPCODE  where state='AL' and city = 'SPRINGVILLE'\") \\\n",
    "    .show()"
   ]
  },
  {
   "cell_type": "markdown",
   "id": "bc1c3a8c-5d91-421b-b799-3ec75b9da67d",
   "metadata": {},
   "source": [
    "The execution of this query is also significantly faster than the query without partition. It filters the data first on state and then applies filters on the city column without scanning the entire dataset."
   ]
  },
  {
   "cell_type": "markdown",
   "id": "1e70859f-621e-407a-86fb-920de5c6b7ee",
   "metadata": {},
   "source": [
    "### How to Choose a Partition Column When Writing to File system?\n",
    "When creating partitions you have to be very cautious with the number of partitions you would create, as having too many partitions creates too many sub-directories on HDFS which brings unnecessarily and overhead to NameNode (if you are using Hadoop) since it must keep all metadata for the file system in memory.\n",
    "\n",
    "Let’s assume you have a US census table that contains zip code, city, state, and other columns. Creating a partition on the state, splits the table into around 50 partitions, when searching for a zipcode within a state (state=’CA’ and zipCode =’92704′) results in faster as it needs to scan only in a state=CA partition directory.\n",
    "\n",
    "Partition on zipcode may not be a good option as you might end up with too many partitions.\n",
    "\n",
    "Another good example of partition is on the Date column. Ideally, you should partition on Year/Month but not on a date."
   ]
  }
 ],
 "metadata": {
  "kernelspec": {
   "display_name": "Python 3 (ipykernel)",
   "language": "python",
   "name": "python3"
  },
  "language_info": {
   "codemirror_mode": {
    "name": "ipython",
    "version": 3
   },
   "file_extension": ".py",
   "mimetype": "text/x-python",
   "name": "python",
   "nbconvert_exporter": "python",
   "pygments_lexer": "ipython3",
   "version": "3.7.16"
  }
 },
 "nbformat": 4,
 "nbformat_minor": 5
}
