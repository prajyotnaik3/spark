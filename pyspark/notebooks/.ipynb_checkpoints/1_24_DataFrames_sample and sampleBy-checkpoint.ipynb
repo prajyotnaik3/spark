{
 "cells": [
  {
   "cell_type": "code",
   "execution_count": null,
   "id": "1cfe18e8-052e-4bf0-bc0f-b36b116d83fb",
   "metadata": {},
   "outputs": [],
   "source": []
  }
 ],
 "metadata": {
  "kernelspec": {
   "display_name": "Python 3 (ipykernel)",
   "language": "python",
   "name": "python3"
  },
  "language_info": {
   "codemirror_mode": {
    "name": "ipython",
    "version": 3
   },
   "file_extension": ".py",
   "mimetype": "text/x-python",
   "name": "python",
   "nbconvert_exporter": "python",
   "pygments_lexer": "ipython3",
   "version": "3.7.16"
  }
 },
 "nbformat": 4,
 "nbformat_minor": 5
}
